{
 "cells": [
  {
   "cell_type": "code",
   "execution_count": 1,
   "metadata": {},
   "outputs": [],
   "source": [
    "# auto reload external package setting\n",
    "%load_ext autoreload\n",
    "%autoreload 2"
   ]
  },
  {
   "cell_type": "markdown",
   "metadata": {},
   "source": [
    "# Global Settings"
   ]
  },
  {
   "cell_type": "code",
   "execution_count": 2,
   "metadata": {},
   "outputs": [],
   "source": [
    "import numpy as np\n",
    "import scipy\n",
    "from scipy import constants as cst"
   ]
  },
  {
   "cell_type": "markdown",
   "metadata": {},
   "source": [
    "# Regression rate"
   ]
  },
  {
   "cell_type": "code",
   "execution_count": 3,
   "metadata": {},
   "outputs": [],
   "source": [
    "Ts = 640.73151  # K, surface temperature (liquid-gas interface)\n",
    "q0 = 1e5  # W/m2, heat flux from gas phase to liquid phase\n",
    "T_melt = 165 + 273  # K, POM melting point\n",
    "k = 0.14  # W/m·K, liquid phase thermal conductivity\n",
    "rho = 1.2e3  # kg/m3, liquid phase density\n",
    "MW0 = 30e-3  # kg/mol, CH2O molecular weight\n",
    "A_beta = 1.8e13  # 1/s\n",
    "Ea = 30 * cst.calorie * 1e3  # J/mol\n",
    "dH = 56e3  # J/mol, heat absorbed by beta scission\n",
    "MW = 1e2  # kg/mol, molecular weight of POM\n",
    "gamma = 1\n",
    "lh = 150e3  # J/kg, latent heat of POM melting\n",
    "\n",
    "A_tilde = 2 * dH * rho * A_beta * cst.gas_constant * gamma / (MW * k * Ea)\n",
    "theta_S = cst.gas_constant * Ts / Ea\n",
    "theta_melt = cst.gas_constant * T_melt / Ea\n",
    "h_tilde = dH / (MW0 * lh)\n",
    "\n",
    "\n",
    "def g(u):\n",
    "    return scipy.special.expi(-1 / u) + u * np.exp(-1 / u)"
   ]
  },
  {
   "cell_type": "markdown",
   "metadata": {},
   "source": [
    "## Given heat flux"
   ]
  },
  {
   "cell_type": "code",
   "execution_count": 4,
   "metadata": {},
   "outputs": [
    {
     "data": {
      "text/plain": [
       "0.004132231404958678"
      ]
     },
     "execution_count": 4,
     "metadata": {},
     "output_type": "execute_result"
    }
   ],
   "source": [
    "rb1 = q0 / (rho * (lh + dH / MW0))  # m/s\n",
    "rb1 * 100  # cm/s"
   ]
  },
  {
   "cell_type": "markdown",
   "metadata": {},
   "source": [
    "## Given surface temperature"
   ]
  },
  {
   "cell_type": "code",
   "execution_count": 5,
   "metadata": {},
   "outputs": [
    {
     "data": {
      "text/plain": [
       "0.004136735691920231"
      ]
     },
     "execution_count": 5,
     "metadata": {},
     "output_type": "execute_result"
    }
   ],
   "source": [
    "rb2 = k * Ea / (lh * rho * cst.gas_constant) * np.sqrt(2 * A_tilde * (g(theta_S) - g(theta_melt)) / ((1 + h_tilde) ** 2 - 1))  # m/s\n",
    "rb2 * 100  # cm/s"
   ]
  },
  {
   "cell_type": "code",
   "execution_count": null,
   "metadata": {},
   "outputs": [],
   "source": []
  }
 ],
 "metadata": {
  "kernelspec": {
   "display_name": "ct3",
   "language": "python",
   "name": "python3"
  },
  "language_info": {
   "codemirror_mode": {
    "name": "ipython",
    "version": 3
   },
   "file_extension": ".py",
   "mimetype": "text/x-python",
   "name": "python",
   "nbconvert_exporter": "python",
   "pygments_lexer": "ipython3",
   "version": "3.11.4"
  }
 },
 "nbformat": 4,
 "nbformat_minor": 2
}
